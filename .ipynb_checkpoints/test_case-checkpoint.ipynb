{
 "cells": [
  {
   "cell_type": "code",
   "execution_count": 38,
   "id": "38fd06a8-94e8-4ba1-8bb8-41382f7a48aa",
   "metadata": {},
   "outputs": [
    {
     "name": "stdout",
     "output_type": "stream",
     "text": [
      "2022-08-17 14:09:44.800663: W tensorflow/stream_executor/platform/default/dso_loader.cc:64] Could not load dynamic library 'libcudart.so.11.0'; dlerror: libcudart.so.11.0: cannot open shared object file: No such file or directory\n",
      "2022-08-17 14:09:44.800692: I tensorflow/stream_executor/cuda/cudart_stub.cc:29] Ignore above cudart dlerror if you do not have a GPU set up on your machine.\n",
      "usage: predict.py [-h] [--saved_model SAVE_MODEL]\n",
      "                  [--category_names CATEGORY_NAMES] [--top_k TOP_K]\n",
      "                  [--input_img INPUT_IMG]\n",
      "\n",
      "optional arguments:\n",
      "  -h, --help            show this help message and exit\n",
      "  --saved_model SAVE_MODEL\n",
      "                        Model to use for prediction\n",
      "  --category_names CATEGORY_NAMES\n",
      "                        Map cat file to name\n",
      "  --top_k TOP_K         Top 5 predicted classes\n",
      "  --input_img INPUT_IMG\n",
      "                        image to predict\n"
     ]
    }
   ],
   "source": [
    "! python predict.py --help"
   ]
  },
  {
   "cell_type": "code",
   "execution_count": null,
   "id": "0baf6952-bfc4-4a5b-8f06-1a445834c2fc",
   "metadata": {},
   "outputs": [],
   "source": [
    "#--input_img './test_images/wild_pansy.jpg'\n",
    "#--input_img './test_images/orange_dahlia.jpg' \n",
    "#--input_img './test_images/hard-leaved_pocket_orchid.jpg'\n",
    "#--input_img './test_images/cautleya_spicata.jpg'"
   ]
  },
  {
   "cell_type": "code",
   "execution_count": null,
   "id": "f3ac7d1e-75d7-478c-913e-ba24409c3ceb",
   "metadata": {},
   "outputs": [],
   "source": [
    "# ! python predict.py   --saved_model SAVE_MODEL  --category_names CATEGORY_NAMES  --top_k TOP_K    --input_img INPUT_IMG"
   ]
  },
  {
   "cell_type": "markdown",
   "id": "a54dcc5a-fa03-460d-a25c-4365a53ec16e",
   "metadata": {},
   "source": [
    "## Test case for images"
   ]
  },
  {
   "cell_type": "code",
   "execution_count": 2,
   "id": "cdc80a49-688f-420e-835e-b62851b9dcab",
   "metadata": {},
   "outputs": [
    {
     "name": "stdout",
     "output_type": "stream",
     "text": [
      "2022-08-17 14:33:08.873142: W tensorflow/stream_executor/platform/default/dso_loader.cc:64] Could not load dynamic library 'libcudart.so.11.0'; dlerror: libcudart.so.11.0: cannot open shared object file: No such file or directory\n",
      "2022-08-17 14:33:08.873249: I tensorflow/stream_executor/cuda/cudart_stub.cc:29] Ignore above cudart dlerror if you do not have a GPU set up on your machine.\n",
      "2022-08-17 14:33:17.209547: W tensorflow/stream_executor/platform/default/dso_loader.cc:64] Could not load dynamic library 'libcuda.so.1'; dlerror: libcuda.so.1: cannot open shared object file: No such file or directory\n",
      "2022-08-17 14:33:17.209632: W tensorflow/stream_executor/cuda/cuda_driver.cc:269] failed call to cuInit: UNKNOWN ERROR (303)\n",
      "2022-08-17 14:33:17.209697: I tensorflow/stream_executor/cuda/cuda_diagnostics.cc:156] kernel driver does not appear to be running on this host (duplex-HP-ProBook-430-G2): /proc/driver/nvidia/version does not exist\n",
      "2022-08-17 14:33:17.211332: I tensorflow/core/platform/cpu_feature_guard.cc:193] This TensorFlow binary is optimized with oneAPI Deep Neural Network Library (oneDNN) to use the following CPU instructions in performance-critical operations:  AVX2 FMA\n",
      "To enable them in other operations, rebuild TensorFlow with the appropriate compiler flags.\n",
      "1/1 [==============================] - 2s 2s/step\n",
      "['petunia'] with a probability of [0.999153]\n"
     ]
    }
   ],
   "source": [
    "! python predict.py   --input_img './test_images/wild_pansy.jpg'  --top_k 1  "
   ]
  },
  {
   "cell_type": "code",
   "execution_count": 27,
   "id": "e4fd9aa0-78bd-4efb-8a99-f8f17b42497a",
   "metadata": {},
   "outputs": [],
   "source": [
    "#! python predict.py   --input_img './test_images/wild_pansy.jpg'  --top_k 1  "
   ]
  },
  {
   "cell_type": "code",
   "execution_count": 29,
   "id": "e42a7d18-b3c8-4018-83b7-a690eaa84055",
   "metadata": {},
   "outputs": [],
   "source": [
    "#! python predict.py   --input_img './test_images/hard-leaved_pocket_orchid.jpg' --top_k 1  "
   ]
  },
  {
   "cell_type": "code",
   "execution_count": 33,
   "id": "c693ad59-701c-4a61-869c-db889f5681b5",
   "metadata": {},
   "outputs": [],
   "source": [
    "#! python predict.py   --input_img './test_images/cautleya_spicata.jpg'  --top_k 1  "
   ]
  },
  {
   "cell_type": "markdown",
   "id": "a34a45e8-6416-4b14-b53b-68b06f99baf7",
   "metadata": {},
   "source": [
    "## Test case for models"
   ]
  },
  {
   "cell_type": "code",
   "execution_count": null,
   "id": "89dc1869-07b5-4290-8bec-e950f9090129",
   "metadata": {},
   "outputs": [],
   "source": [
    "#-- saved_model 1660714504.h5\n",
    "#-- saved_model 1660723543.h5\n",
    "#-- saved_model best_model.h5"
   ]
  },
  {
   "cell_type": "code",
   "execution_count": 42,
   "id": "9d9f002e-1b94-402d-b2c3-2fc929f279ed",
   "metadata": {},
   "outputs": [
    {
     "name": "stdout",
     "output_type": "stream",
     "text": [
      "2022-08-17 14:12:38.637399: W tensorflow/stream_executor/platform/default/dso_loader.cc:64] Could not load dynamic library 'libcudart.so.11.0'; dlerror: libcudart.so.11.0: cannot open shared object file: No such file or directory\n",
      "2022-08-17 14:12:38.637442: I tensorflow/stream_executor/cuda/cudart_stub.cc:29] Ignore above cudart dlerror if you do not have a GPU set up on your machine.\n",
      "2022-08-17 14:12:41.037611: W tensorflow/stream_executor/platform/default/dso_loader.cc:64] Could not load dynamic library 'libcuda.so.1'; dlerror: libcuda.so.1: cannot open shared object file: No such file or directory\n",
      "2022-08-17 14:12:41.037654: W tensorflow/stream_executor/cuda/cuda_driver.cc:269] failed call to cuInit: UNKNOWN ERROR (303)\n",
      "2022-08-17 14:12:41.037678: I tensorflow/stream_executor/cuda/cuda_diagnostics.cc:156] kernel driver does not appear to be running on this host (duplex-HP-ProBook-430-G2): /proc/driver/nvidia/version does not exist\n",
      "2022-08-17 14:12:41.037918: I tensorflow/core/platform/cpu_feature_guard.cc:193] This TensorFlow binary is optimized with oneAPI Deep Neural Network Library (oneDNN) to use the following CPU instructions in performance-critical operations:  AVX2 FMA\n",
      "To enable them in other operations, rebuild TensorFlow with the appropriate compiler flags.\n",
      "1/1 [==============================] - 1s 590ms/step\n",
      "['marigold', 'love in the mist', 'peruvian lily', 'black-eyed susan', 'petunia'] with a probability of [6.5834225e-05 7.4225674e-05 2.1453653e-04 2.3698321e-04 9.9915302e-01]\n"
     ]
    }
   ],
   "source": [
    "! python predict.py  -- saved_model 'best_model.h5'  --top_k 1 --input_img './test_images/wild_pansy.jpg'"
   ]
  },
  {
   "cell_type": "code",
   "execution_count": null,
   "id": "66381971-80d5-43ad-92ab-95713e9bc1af",
   "metadata": {},
   "outputs": [],
   "source": []
  }
 ],
 "metadata": {
  "kernelspec": {
   "display_name": "Python 3 (ipykernel)",
   "language": "python",
   "name": "python3"
  },
  "language_info": {
   "codemirror_mode": {
    "name": "ipython",
    "version": 3
   },
   "file_extension": ".py",
   "mimetype": "text/x-python",
   "name": "python",
   "nbconvert_exporter": "python",
   "pygments_lexer": "ipython3",
   "version": "3.9.12"
  }
 },
 "nbformat": 4,
 "nbformat_minor": 5
}
